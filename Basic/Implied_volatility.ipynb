{
 "cells": [
  {
   "cell_type": "code",
   "execution_count": 2,
   "metadata": {
    "collapsed": false
   },
   "outputs": [
   ],
   "source": [
    "from scipy import optimize\n",
    "# from BSM_option_valuation import *\n",
    "\n",
    "import math\n",
    "import numpy as np\n",
    "import matplotlib.pyplot as plt\n",
    "import scipy.stats as ss"
   ]
  },
  {
   "cell_type": "code",
   "execution_count": 0,
   "metadata": {
    "collapsed": false
   },
   "outputs": [
   ],
   "source": [
    "# BSM_option_valuation\n",
    "def d1f(St, K, t, T, r, sigma):\n",
    "    d1 = (math.log(St / K) + (r + 0.5 * sigma ** 2)\n",
    "          * (T - t)) / (sigma * math.sqrt(T - t))\n",
    "    return d1\n",
    "\n",
    "def BSM_call_value(St, K, t, T, r, sigma):\n",
    "    d1 = d1f(St, K, t, T, r, sigma)\n",
    "    d2 = d1 - sigma * math.sqrt(T - t)\n",
    "    call_value = St * ss.norm.cdf(d1) - math.exp(-r * (T - t)) * K * ss.norm.cdf(d2)\n",
    "    return call_value\n",
    "\n",
    "def BSM_put_value(St, K, t, T, r, sigma):\n",
    "    d1 = d1f(St, K, t, T, r, sigma)\n",
    "    d2 = d1 - sigma * math.sqrt(T - t)\n",
    "    put_value = math.exp(-r * (T - t)) * K * ss.norm.cdf(-d2) - St * ss.norm.cdf(-d1)\n",
    "    return put_value"
   ]
  },
  {
   "cell_type": "code",
   "execution_count": 0,
   "metadata": {
    "collapsed": false
   },
   "outputs": [
   ],
   "source": [
    "def IVolBsm(S0, K, T, r, P0):\n",
    "    \"\"\"\n",
    "    Inputs:\n",
    "        S0: spot price\n",
    "        K: strike\n",
    "        T: time to maturity in year\n",
    "        r: rate\n",
    "        P0: market price\n",
    "    Outputs:\n",
    "        Implied volatility\n",
    "    \"\"\"\n",
    "    InitVol = .3\n",
    "    error = lambda sigma: (BSM_call_value(S0, K, 0, T, r, sigma) - P0)**2\n",
    "    opt = optimize.fmin(error, InitVol);\n",
    "    return opt[0]\n",
    "\n",
    "if __name__ == \"__main__\":\n",
    "    print('Implied volatility is', IVolBsm(100, 100, 1, .02, 9))"
   ]
  },
  {
   "cell_type": "code",
   "execution_count": 0,
   "metadata": {
    "collapsed": false
   },
   "outputs": [
   ],
   "source": [
   ]
  }
 ],
 "metadata": {
  "kernelspec": {
   "display_name": "Python 3 (Anaconda 5)",
   "language": "python",
   "name": "anaconda5"
  }
 },
 "nbformat": 4,
 "nbformat_minor": 0
}