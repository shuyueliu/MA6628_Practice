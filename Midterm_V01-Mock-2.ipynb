{
 "cells": [
  {
   "cell_type": "markdown",
   "metadata": {
    "collapsed": false
   },
   "source": [
    "**Midterm Mock Test**\n",
    "\n",
    "- Name and Student ID:\n",
    "- Two-hour exam\n",
    "- Write all your answers on the exam paper. Your answer must be justified clearly\n",
    "- If you have used python code, you shall convert it into PDF and send it to songqsh2000@yahoo.com\n",
    "- It is open book. However, any kind of communication during the exam period is not allowed"
   ]
  },
  {
   "cell_type": "markdown",
   "metadata": {
    "collapsed": false
   },
   "source": [
    "**Problem 1**\n",
    "\n",
    "Consider CRR option with the following parameters:\n",
    "\n",
    "- Model: 2-period CRR for total length 2 year\n",
    "- Stock initial price: 50\n",
    "- Volatility: 20 %\n",
    "- Rate: 5 %\n",
    "- Put option price: 50\n",
    "- Put maturity: 2 year\n",
    "\n",
    "**Questions**\n",
    "\n",
    "1. Find CRR put price."
   ]
  },
  {
   "cell_type": "code",
   "execution_count": 2,
   "metadata": {
    "collapsed": false
   },
   "outputs": [
    {
     "name": "stdout",
     "output_type": "stream",
     "text": [
      "the CRR put price =  3.305260764287283\n"
     ]
    }
   ],
   "source": [
    "# use BSM to calculate CRR option price\n",
    "import math\n",
    "import numpy as np\n",
    "import matplotlib.pyplot as plt\n",
    "import scipy.stats as ss\n",
    "import time\n",
    "\n",
    "T=2\n",
    "S0=50\n",
    "sigma=0.2\n",
    "r=0.05\n",
    "K=50\n",
    "t=0\n",
    "\n",
    "def d1f(St, K, t, T, r, sigma):\n",
    "    d1 = (math.log(St / K) + (r + 0.5 * sigma ** 2)\n",
    "          * (T - t)) / (sigma * math.sqrt(T - t))\n",
    "    return d1\n",
    "\n",
    "def BSM_call_value(St, K, t, T, r, sigma):\n",
    "    d1 = d1f(St, K, t, T, r, sigma)\n",
    "    d2 = d1 - sigma * math.sqrt(T - t)\n",
    "    call_value = St * ss.norm.cdf(d1) - math.exp(-r * (T - t)) * K * ss.norm.cdf(d2)\n",
    "    return call_value\n",
    "\n",
    "def BSM_put_value_2(St, K, t, T, r, sigma):\n",
    "\n",
    "    d1 = d1f(St, K, t, T, r, sigma)\n",
    "    d2 = d1 - sigma * math.sqrt(T - t)\n",
    "    put_value = math.exp(-r * (T - t)) * K * ss.norm.cdf(-d2) - St * ss.norm.cdf(-d1)\n",
    "    return put_value\n",
    "\n",
    "P0=BSM_put_value_2(S0, K, t, T, r, sigma)\n",
    "print(\"the CRR put price = \", P0)"
   ]
  },
  {
   "cell_type": "code",
   "execution_count": 4,
   "metadata": {
    "collapsed": false
   },
   "outputs": [
    {
     "name": "stdout",
     "output_type": "stream",
     "text": [
      "the CRR put price =  2.6625667890451976\n"
     ]
    }
   ],
   "source": [
    "# use CRR model to calculate CRR option price\n",
    "\n",
    "import math\n",
    "import numpy as np\n",
    "import matplotlib as mpl\n",
    "import matplotlib.pyplot as plt\n",
    "mpl.rcParams['font.family'] = 'serif'\n",
    "from BSM_option_valuation import BSM_call_value\n",
    "\n",
    "T=2\n",
    "S0=50\n",
    "sigma=0.2\n",
    "r=0.05\n",
    "K=50\n",
    "t=0\n",
    "M=2\n",
    "otype=\"put\"\n",
    "\n",
    "def CRR_option_value(S0, K, T, r, sigma, otype, M):\n",
    "    # Time Parameters\n",
    "    dt = T / M  # length of time interval\n",
    "    df = math.exp(-r * dt)  # discount per interval\n",
    "\n",
    "    # Binomial Parameters\n",
    "    u = math.exp(sigma * math.sqrt(dt))  # up movement\n",
    "    d = 1 / u  # down movement\n",
    "    q = (math.exp(r * dt) - d) / (u - d)  # martingale branch probability\n",
    "\n",
    "    # Array Initialization for Index Levels\n",
    "    mu = np.arange(M + 1)\n",
    "    mu = np.resize(mu, (M + 1, M + 1))\n",
    "    md = np.transpose(mu)\n",
    "    mu = u ** (mu - md)\n",
    "    md = d ** md\n",
    "    S = S0 * mu * md\n",
    "\n",
    "    # Inner Values\n",
    "    if otype == 'call':\n",
    "        V = np.maximum(S - K, 0)  # inner values for European call option\n",
    "    else:\n",
    "        V = np.maximum(K - S, 0)  # inner values for European put option\n",
    "\n",
    "    z = 0\n",
    "    for t in range(M - 1, -1, -1):  # backwards iteration\n",
    "        V[0:M - z, t] = (q * V[0:M - z, t + 1] +\n",
    "                         (1 - q) * V[1:M - z + 1, t + 1]) * df\n",
    "        z += 1\n",
    "    return V[0, 0]\n",
    "\n",
    "P0_2 = CRR_option_value(S0, K, T, r, sigma, otype, M)\n",
    "print(\"the CRR put price = \", P0_2)"
   ]
  },
  {
   "cell_type": "code",
   "execution_count": 0,
   "metadata": {
    "collapsed": false
   },
   "outputs": [
   ],
   "source": [
   ]
  },
  {
   "cell_type": "markdown",
   "metadata": {
    "collapsed": false
   },
   "source": [
    "**Problem 2**\n",
    "\n",
    "Suppose a Monte-Carlo method generates a random variable $\\hat \\alpha$ for the approximation of a deterministic number $\\alpha$. Recall that Bias is given by\n",
    "$$Bias = \\mathbb E[\\hat \\alpha] - \\alpha.$$\n",
    "and the mean square error is given by\n",
    "$$MSE(\\hat \\alpha) = \\mathbb E[ (\\hat \\alpha - \\alpha)^2 ].$$\n",
    "\n",
    "**Questions**\n",
    "\n",
    "1. Prove that \n",
    "    $$MSE(\\hat \\alpha) = |Bias|^2 + Var (\\hat \\alpha).$$\n",
    "\n"
   ]
  },
  {
   "cell_type": "code",
   "execution_count": 0,
   "metadata": {
    "collapsed": false
   },
   "outputs": [
   ],
   "source": [
    "# 分别展开"
   ]
  },
  {
   "cell_type": "markdown",
   "metadata": {
    "collapsed": false
   },
   "source": [
    "**Problem 3**\n",
    "\n",
    "Consider the following data sets:\n",
    "\n",
    "Today: Oct 08, 2018\n",
    "\n",
    "BAC Spot price: 30.27\n",
    "\n",
    "European Call Maturity: Jun 21, 2019\n",
    "\n",
    "European Call Strike: 30.0\n",
    "\n",
    "rate: 0.0264\n",
    "\n",
    "Market call price: 2.70\n",
    "\n",
    "**Questions**\n",
    "\n",
    "1. Compute the BSM implied volatility."
   ]
  },
  {
   "cell_type": "code",
   "execution_count": 0,
   "metadata": {
    "collapsed": false
   },
   "outputs": [
   ],
   "source": [
   ]
  },
  {
   "cell_type": "code",
   "execution_count": 14,
   "metadata": {
    "collapsed": false
   },
   "outputs": [
    {
     "name": "stdout",
     "output_type": "stream",
     "text": [
      "Optimization terminated successfully.\n",
      "         Current function value: 0.000000\n",
      "         Iterations: 12\n",
      "         Function evaluations: 24\n",
      "implied volatility is: 0.2275195312499998\n"
     ]
    }
   ],
   "source": [
    "import numpy as np\n",
    "import pandas as pd\n",
    "import scipy.optimize as sop\n",
    "import math\n",
    "import time\n",
    "import scipy.stats as ss\n",
    "\n",
    "S0 = 30.27\n",
    "r = 0.0264\n",
    "K=30\n",
    "call=2.70\n",
    "today = np.datetime64('2018-10-08')\n",
    "maturity=np.datetime64('2019-06-21')\n",
    "T=(maturity-today)/np.timedelta64(1,\"D\")/365\n",
    "\n",
    "def d1f(St, K, t, T, r, sigma):\n",
    "    d1 = (math.log(St / K) + (r + 0.5 * sigma ** 2)\n",
    "          * (T - t)) / (sigma * math.sqrt(T - t))\n",
    "    return d1\n",
    "\n",
    "def BSM_call_value(St, K, t, T, r, sigma):\n",
    "    d1 = d1f(St, K, t, T, r, sigma)\n",
    "    d2 = d1 - sigma * math.sqrt(T - t)\n",
    "    call_value = St * ss.norm.cdf(d1) - math.exp(-r * (T - t)) * K * ss.norm.cdf(d2)\n",
    "    return call_value\n",
    "\n",
    "def IVolBsm(S0, K, T, r, P0):\n",
    "    InitVol = .3\n",
    "    error = lambda sigma: (BSM_call_value(S0, K, 0, T, r, sigma) - P0)**2\n",
    "    opt = sop.fmin(error, InitVol);\n",
    "    return opt[0]\n",
    "\n",
    "print(\"implied volatility is:\",IVolBsm(S0, K, T, r, call))"
   ]
  },
  {
   "cell_type": "code",
   "execution_count": 0,
   "metadata": {
    "collapsed": false
   },
   "outputs": [
   ],
   "source": [
   ]
  }
 ],
 "metadata": {
  "kernelspec": {
   "display_name": "Python 3 (Ubuntu Linux)",
   "language": "python",
   "name": "python3"
  },
  "language_info": {
   "codemirror_mode": {
    "name": "ipython",
    "version": 3
   },
   "file_extension": ".py",
   "mimetype": "text/x-python",
   "name": "python",
   "nbconvert_exporter": "python",
   "pygments_lexer": "ipython3",
   "version": "3.6.6"
  }
 },
 "nbformat": 4,
 "nbformat_minor": 0
}