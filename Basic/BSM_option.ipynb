{
 "cells": [
  {
   "cell_type": "code",
   "execution_count": 1,
   "metadata": {
    "collapsed": false
   },
   "outputs": [
   ],
   "source": [
    "import numpy as np\n",
    "import scipy.stats as ss\n",
    "\n",
    "\n",
    "class BsmEuOptions:\n",
    "    def __init__(self, Type = 'Call', \n",
    "                 Strike = 100., \n",
    "                 Maturity = 1., \n",
    "                 Spot = 100., \n",
    "                 Vol = 0.1, \n",
    "                 Rate = 0.02,\n",
    "                 #MarketPrice = 10.\n",
    "                ):\n",
    "        '''\n",
    "\n",
    "        Initialize Black-Scholes-Merton European option parameters\n",
    "        ==========\n",
    "        Type: 'Call' or 'Put'\n",
    "        Strike: float\n",
    "                strike price\n",
    "        Maturity: float\n",
    "                Time to maturity in year\n",
    "        Spot: float\n",
    "                Initial Stock price\n",
    "        Vol: float\n",
    "            Volatility\n",
    "        Rate: float\n",
    "            interest rate\n",
    "        Market Price: float\n",
    "            Present option price quoted by market\n",
    "        '''\n",
    "        self.Type = Type\n",
    "        self. Strike = Strike\n",
    "        self.Maturity = Maturity\n",
    "        self.Spot = Spot\n",
    "        self.Vol = Vol\n",
    "        self.Rate = Rate\n",
    "        "
   ]
  },
  {
   "cell_type": "code",
   "execution_count": 4,
   "metadata": {
    "collapsed": false
   },
   "outputs": [
   ],
   "source": [
    "    '''\n",
    "    Payoff function\n",
    "    \n",
    "    '''        \n",
    "def Payoff(self, ST):\n",
    "        '''\n",
    "           ================\n",
    "           Inputs:\n",
    "               ST: float\n",
    "               Exercise stock price\n",
    "               \n",
    "               Returns:\n",
    "                   float, \n",
    "                   Payoff value\n",
    "           ================\n",
    "        '''\n",
    "        if self.Type == 'Call':\n",
    "            return np.max([0, ST - self.Strike])\n",
    "        else:\n",
    "            return np.max([0, - ST + self.Strike])"
   ]
  },
  {
   "cell_type": "code",
   "execution_count": 6,
   "metadata": {
    "collapsed": false
   },
   "outputs": [
   ],
   "source": [
    "    '''    \n",
    "    Calculation of option price by BSM formula\n",
    "    ===============\n",
    "    Inputs:\n",
    "        Vol: optional, float, by default is 100\n",
    "            Volatility override\n",
    "    Returns:\n",
    "        float,\n",
    "        BSM price, if Vol is given with a float less than 1, then \n",
    "        that Volatility will be used for computation\n",
    "    '''\n",
    "def BsmPrice(self, Vol=100):\n",
    "        if Vol >1:\n",
    "            Vol = self.Vol\n",
    "\n",
    "        d1 = (np.log(self.Spot / self.Strike) + \\\n",
    "              (self.Rate + 0.5 * Vol ** 2) * \\\n",
    "              self.Maturity) / (Vol * np.sqrt(self.Maturity))\n",
    "        d2 = d1 - Vol * np.sqrt(self.Maturity)\n",
    "        call_value = self.Spot * ss.norm.cdf(d1) - \\\n",
    "            np.exp(-self.Rate * self.Maturity) * self.Strike * ss.norm.cdf(d2)\n",
    "        if self.Type == 'Call':\n",
    "            return call_value\n",
    "        else:\n",
    "            return call_value - self.Spot + \\\n",
    "                np.exp(-self.Rate * self.Maturity) * self.Strike"
   ]
  },
  {
   "cell_type": "code",
   "execution_count": 11,
   "metadata": {
    "collapsed": false
   },
   "outputs": [
    {
     "ename": "NameError",
     "evalue": "name 'self' is not defined",
     "output_type": "error",
     "traceback": [
      "\u001b[0;31m---------------------------------------------------------------------------\u001b[0m",
      "\u001b[0;31mNameError\u001b[0m                                 Traceback (most recent call last)",
      "\u001b[0;32m<ipython-input-11-f9fb202173a5>\u001b[0m in \u001b[0;36m<module>\u001b[0;34m()\u001b[0m\n\u001b[1;32m      1\u001b[0m \u001b[0;32mif\u001b[0m \u001b[0m__name__\u001b[0m \u001b[0;34m==\u001b[0m \u001b[0;34m\"__main__\"\u001b[0m\u001b[0;34m:\u001b[0m\u001b[0;34m\u001b[0m\u001b[0m\n\u001b[1;32m      2\u001b[0m     \u001b[0miOpt\u001b[0m \u001b[0;34m=\u001b[0m \u001b[0mBsmEuOptions\u001b[0m\u001b[0;34m(\u001b[0m                        \u001b[0mSpot\u001b[0m \u001b[0;34m=\u001b[0m \u001b[0;36m100\u001b[0m\u001b[0;34m,\u001b[0m \u001b[0mStrike\u001b[0m \u001b[0;34m=\u001b[0m \u001b[0;36m110\u001b[0m\u001b[0;34m,\u001b[0m \u001b[0mRate\u001b[0m \u001b[0;34m=\u001b[0m \u001b[0;36m0.0475\u001b[0m\u001b[0;34m,\u001b[0m                         \u001b[0mVol\u001b[0m \u001b[0;34m=\u001b[0m \u001b[0;36m0.2\u001b[0m\u001b[0;34m,\u001b[0m \u001b[0mMaturity\u001b[0m \u001b[0;34m=\u001b[0m \u001b[0;36m1.\u001b[0m\u001b[0;34m,\u001b[0m \u001b[0mType\u001b[0m \u001b[0;34m=\u001b[0m \u001b[0;34m'Put'\u001b[0m                        \u001b[0;34m)\u001b[0m\u001b[0;34m\u001b[0m\u001b[0m\n\u001b[0;32m----> 3\u001b[0;31m     \u001b[0mprint\u001b[0m\u001b[0;34m(\u001b[0m\u001b[0;34m'BSM %s option price is %f'\u001b[0m \u001b[0;34m%\u001b[0m\u001b[0;34m(\u001b[0m\u001b[0miOpt\u001b[0m\u001b[0;34m.\u001b[0m\u001b[0mType\u001b[0m\u001b[0;34m,\u001b[0m \u001b[0mBsmPrice\u001b[0m\u001b[0;34m(\u001b[0m\u001b[0mself\u001b[0m\u001b[0;34m,\u001b[0m \u001b[0mVol\u001b[0m\u001b[0;34m=\u001b[0m\u001b[0;36m100\u001b[0m\u001b[0;34m)\u001b[0m\u001b[0;34m)\u001b[0m\u001b[0;34m)\u001b[0m\u001b[0;34m\u001b[0m\u001b[0m\n\u001b[0m",
      "\u001b[0;31mNameError\u001b[0m: name 'self' is not defined"
     ]
    }
   ],
   "source": [
    "if __name__ == \"__main__\":\n",
    "    iOpt = BsmEuOptions(\\\n",
    "                        Spot = 100, Strike = 110, Rate = 0.0475, \\\n",
    "                        Vol = 0.2, Maturity = 1., Type = 'Put'\\\n",
    "                        )\n",
    "    print('BSM %s option price is %f' %(iOpt.Type, BsmPrice(self, Vol=100)))"
   ]
  },
  {
   "cell_type": "code",
   "execution_count": 0,
   "metadata": {
    "collapsed": false
   },
   "outputs": [
   ],
   "source": [
   ]
  }
 ],
 "metadata": {
  "kernelspec": {
   "display_name": "Python 3 (Anaconda 5)",
   "language": "python",
   "name": "anaconda5"
  }
 },
 "nbformat": 4,
 "nbformat_minor": 0
}