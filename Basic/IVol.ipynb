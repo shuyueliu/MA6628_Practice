{
 "cells": [
  {
   "cell_type": "code",
   "execution_count": 1,
   "metadata": {
    "collapsed": false
   },
   "outputs": [
   ],
   "source": [
    "from scipy import optimize\n",
    "import numpy as np\n",
    "import scipy.stats as ss\n",
    "import BsmOption as BO"
   ]
  },
  {
   "cell_type": "code",
   "execution_count": 0,
   "metadata": {
    "collapsed": false
   },
   "outputs": [
   ],
   "source": [
    "def IVol(Option, MarketPrice):\n",
    "    \"\"\"\n",
    "    Inputs:\n",
    "    =======    \n",
    "        Option: BO.BsmEuOptions class\n",
    "        MarketPrice: float, price quoted from market\n",
    "    Outputs:\n",
    "    ========\n",
    "        float,\n",
    "        Implied volatility\n",
    "    \"\"\"\n",
    "    InitVol = .3\n",
    "    error = lambda vol: (Option.BsmPrice(vol) - MarketPrice)**2\n",
    "    opt = optimize.fmin(error, InitVol, disp = False);\n",
    "    return opt[0]"
   ]
  },
  {
   "cell_type": "code",
   "execution_count": 0,
   "metadata": {
    "collapsed": false
   },
   "outputs": [
   ],
   "source": [
    "if __name__ == \"__main__\":\n",
    "    iOpt = BO.BsmEuOptions(\\\n",
    "                        Spot = 290.68, Strike = 288, Rate = 0.02, \\\n",
    "                        Vol = 0.3, Maturity = 1/12, Type = 'Call'\\\n",
    "                        )\n",
    "    MarketPrice = 9.23\n",
    "    print('Implied Volatility is', IVol(iOpt, MarketPrice))"
   ]
  },
  {
   "cell_type": "code",
   "execution_count": 0,
   "metadata": {
    "collapsed": false
   },
   "outputs": [
   ],
   "source": [
   ]
  },
  {
   "cell_type": "code",
   "execution_count": 0,
   "metadata": {
    "collapsed": false
   },
   "outputs": [
   ],
   "source": [
   ]
  },
  {
   "cell_type": "code",
   "execution_count": 0,
   "metadata": {
    "collapsed": false
   },
   "outputs": [
   ],
   "source": [
   ]
  }
 ],
 "metadata": {
  "kernelspec": {
   "display_name": "Python 3 (Anaconda 5)",
   "language": "python",
   "name": "anaconda5"
  }
 },
 "nbformat": 4,
 "nbformat_minor": 0
}